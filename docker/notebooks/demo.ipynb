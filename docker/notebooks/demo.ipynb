{
 "cells": [
  {
   "cell_type": "markdown",
   "metadata": {},
   "source": [
    "<table>\n",
    "        <tr>\n",
    "          <th>Name<br></th>\n",
    "          <th>URL</th>\n",
    "        </tr>\n",
    "        <tr>\n",
    "          <td>Jupyter notebook on spark-master (get token from terminal)</td>\n",
    "          <td><a href=\"http://localhost:8888\">http://localhost:8888</a></td>\n",
    "        </tr>\n",
    "        <tr>\n",
    "          <td>Spark Master Web UI - Overall</td>\n",
    "          <td><a href=\"http://localhost:8080\">http://localhost:8080</a></td>\n",
    "        </tr>\n",
    "        <tr>\n",
    "          <td>Spark Master Web UI - App (when an app is running)</td>\n",
    "          <td><a href=\"http://localhost:4040\">http://localhost:4040</a></td>\n",
    "        </tr>\n",
    "        <tr>\n",
    "          <td>Spark Worker Web UI (only when enabled)</td>\n",
    "          <td><a href=\"http://localhost:8081\">http://localhost:8081</a></td>\n",
    "        </tr>\n",
    "      </table>"
   ]
  },
  {
   "cell_type": "code",
   "execution_count": 1,
   "metadata": {},
   "outputs": [],
   "source": [
    "from pyspark.sql import SparkSession\n",
    "spark = SparkSession.builder.appName('PySparkShell').getOrCreate()"
   ]
  },
  {
   "cell_type": "code",
   "execution_count": 2,
   "metadata": {},
   "outputs": [],
   "source": [
    "from flicker import FlickerDataFrame"
   ]
  },
  {
   "cell_type": "code",
   "execution_count": 3,
   "metadata": {},
   "outputs": [],
   "source": [
    "# Create a dummy Flicker DataFrame using normally distributed random data of shape (100, 3)\n",
    "df = FlickerDataFrame.from_shape(spark, nrows=100, ncols=3,\n",
    "                                 names=['a', 'b', 'c'], fill='randn')"
   ]
  },
  {
   "cell_type": "code",
   "execution_count": 4,
   "metadata": {},
   "outputs": [
    {
     "data": {
      "text/html": [
       "<div>\n",
       "<style scoped>\n",
       "    .dataframe tbody tr th:only-of-type {\n",
       "        vertical-align: middle;\n",
       "    }\n",
       "\n",
       "    .dataframe tbody tr th {\n",
       "        vertical-align: top;\n",
       "    }\n",
       "\n",
       "    .dataframe thead th {\n",
       "        text-align: right;\n",
       "    }\n",
       "</style>\n",
       "<table border=\"1\" class=\"dataframe\">\n",
       "  <thead>\n",
       "    <tr style=\"text-align: right;\">\n",
       "      <th></th>\n",
       "      <th>a</th>\n",
       "      <th>b</th>\n",
       "      <th>c</th>\n",
       "    </tr>\n",
       "  </thead>\n",
       "  <tbody>\n",
       "    <tr>\n",
       "      <th>0</th>\n",
       "      <td>-1.581589</td>\n",
       "      <td>0.086650</td>\n",
       "      <td>0.698519</td>\n",
       "    </tr>\n",
       "    <tr>\n",
       "      <th>1</th>\n",
       "      <td>-0.022566</td>\n",
       "      <td>1.609530</td>\n",
       "      <td>-0.151360</td>\n",
       "    </tr>\n",
       "    <tr>\n",
       "      <th>2</th>\n",
       "      <td>0.426998</td>\n",
       "      <td>0.178081</td>\n",
       "      <td>-0.495281</td>\n",
       "    </tr>\n",
       "    <tr>\n",
       "      <th>3</th>\n",
       "      <td>0.682566</td>\n",
       "      <td>0.059317</td>\n",
       "      <td>-0.026672</td>\n",
       "    </tr>\n",
       "    <tr>\n",
       "      <th>4</th>\n",
       "      <td>-0.655312</td>\n",
       "      <td>-1.533081</td>\n",
       "      <td>-1.007250</td>\n",
       "    </tr>\n",
       "  </tbody>\n",
       "</table>\n",
       "</div>"
      ],
      "text/plain": [
       "          a         b         c\n",
       "0 -1.581589  0.086650  0.698519\n",
       "1 -0.022566  1.609530 -0.151360\n",
       "2  0.426998  0.178081 -0.495281\n",
       "3  0.682566  0.059317 -0.026672\n",
       "4 -0.655312 -1.533081 -1.007250"
      ]
     },
     "execution_count": 4,
     "metadata": {},
     "output_type": "execute_result"
    }
   ],
   "source": [
    "df()"
   ]
  },
  {
   "cell_type": "code",
   "execution_count": null,
   "metadata": {},
   "outputs": [],
   "source": []
  }
 ],
 "metadata": {
  "kernelspec": {
   "display_name": "Python 3",
   "language": "python",
   "name": "python3"
  },
  "language_info": {
   "codemirror_mode": {
    "name": "ipython",
    "version": 3
   },
   "file_extension": ".py",
   "mimetype": "text/x-python",
   "name": "python",
   "nbconvert_exporter": "python",
   "pygments_lexer": "ipython3",
   "version": "3.8.2"
  }
 },
 "nbformat": 4,
 "nbformat_minor": 4
}
