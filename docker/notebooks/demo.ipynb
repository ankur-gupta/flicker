{
 "cells": [
  {
   "cell_type": "markdown",
   "metadata": {},
   "source": [
    "<table>\n",
    "        <tr>\n",
    "          <th>Name<br></th>\n",
    "          <th>URL</th>\n",
    "        </tr>\n",
    "        <tr>\n",
    "          <td>Jupyter notebook on spark-master (get token from terminal)</td>\n",
    "          <td><a href=\"http://localhost:8888\">http://localhost:8888</a></td>\n",
    "        </tr>\n",
    "        <tr>\n",
    "          <td>Spark Master Web UI - Overall</td>\n",
    "          <td><a href=\"http://localhost:8080\">http://localhost:8080</a></td>\n",
    "        </tr>\n",
    "        <tr>\n",
    "          <td>Spark Master Web UI - App (when an app is running)</td>\n",
    "          <td><a href=\"http://localhost:4040\">http://localhost:4040</a></td>\n",
    "        </tr>\n",
    "        <tr>\n",
    "          <td>Spark Worker Web UI (only when enabled)</td>\n",
    "          <td><a href=\"http://localhost:8081\">http://localhost:8081</a></td>\n",
    "        </tr>\n",
    "      </table>"
   ]
  },
  {
   "cell_type": "code",
   "execution_count": null,
   "metadata": {},
   "outputs": [],
   "source": [
    "from pyspark.sql import SparkSession\n",
    "spark = SparkSession.builder.appName('PySparkShell').getOrCreate()"
   ]
  },
  {
   "cell_type": "code",
   "execution_count": null,
   "metadata": {},
   "outputs": [],
   "source": [
    "from flicker import FlickerDataFrame"
   ]
  },
  {
   "cell_type": "code",
   "execution_count": null,
   "metadata": {},
   "outputs": [],
   "source": [
    "# Create a dummy Flicker DataFrame using normally distributed random data of shape (100, 3)\n",
    "df = FlickerDataFrame.from_shape(spark, nrows=100, ncols=3,\n",
    "                                 names=['a', 'b', 'c'], fill='randn')"
   ]
  },
  {
   "cell_type": "code",
   "execution_count": 6,
   "metadata": {},
   "outputs": [
    {
     "data": {
      "text/html": [
       "<div>\n",
       "<style scoped>\n",
       "    .dataframe tbody tr th:only-of-type {\n",
       "        vertical-align: middle;\n",
       "    }\n",
       "\n",
       "    .dataframe tbody tr th {\n",
       "        vertical-align: top;\n",
       "    }\n",
       "\n",
       "    .dataframe thead th {\n",
       "        text-align: right;\n",
       "    }\n",
       "</style>\n",
       "<table border=\"1\" class=\"dataframe\">\n",
       "  <thead>\n",
       "    <tr style=\"text-align: right;\">\n",
       "      <th></th>\n",
       "      <th>a</th>\n",
       "      <th>b</th>\n",
       "      <th>c</th>\n",
       "    </tr>\n",
       "  </thead>\n",
       "  <tbody>\n",
       "    <tr>\n",
       "      <th>0</th>\n",
       "      <td>-0.875061</td>\n",
       "      <td>1.461497</td>\n",
       "      <td>-0.579610</td>\n",
       "    </tr>\n",
       "    <tr>\n",
       "      <th>1</th>\n",
       "      <td>1.772945</td>\n",
       "      <td>1.689500</td>\n",
       "      <td>0.646243</td>\n",
       "    </tr>\n",
       "    <tr>\n",
       "      <th>2</th>\n",
       "      <td>-1.255042</td>\n",
       "      <td>-0.658676</td>\n",
       "      <td>1.286428</td>\n",
       "    </tr>\n",
       "    <tr>\n",
       "      <th>3</th>\n",
       "      <td>-1.271126</td>\n",
       "      <td>0.416356</td>\n",
       "      <td>0.963521</td>\n",
       "    </tr>\n",
       "    <tr>\n",
       "      <th>4</th>\n",
       "      <td>-0.755191</td>\n",
       "      <td>0.242340</td>\n",
       "      <td>0.585555</td>\n",
       "    </tr>\n",
       "  </tbody>\n",
       "</table>\n",
       "</div>"
      ],
      "text/plain": [
       "          a         b         c\n",
       "0 -0.875061  1.461497 -0.579610\n",
       "1  1.772945  1.689500  0.646243\n",
       "2 -1.255042 -0.658676  1.286428\n",
       "3 -1.271126  0.416356  0.963521\n",
       "4 -0.755191  0.242340  0.585555"
      ]
     },
     "execution_count": 6,
     "metadata": {},
     "output_type": "execute_result"
    }
   ],
   "source": [
    "df()"
   ]
  },
  {
   "cell_type": "code",
   "execution_count": null,
   "metadata": {},
   "outputs": [],
   "source": []
  }
 ],
 "metadata": {
  "kernelspec": {
   "display_name": "Python 3",
   "language": "python",
   "name": "python3"
  },
  "language_info": {
   "codemirror_mode": {
    "name": "ipython",
    "version": 3
   },
   "file_extension": ".py",
   "mimetype": "text/x-python",
   "name": "python",
   "nbconvert_exporter": "python",
   "pygments_lexer": "ipython3",
   "version": "3.8.2"
  }
 },
 "nbformat": 4,
 "nbformat_minor": 4
}
